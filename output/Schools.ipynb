{
 "cells": [
  {
   "cell_type": "markdown",
   "metadata": {},
   "source": [
    "# Read in the data"
   ]
  },
  {
   "cell_type": "code",
   "execution_count": 5,
   "metadata": {},
   "outputs": [
    {
     "name": "stdout",
     "output_type": "stream",
     "text": [
      "\n"
     ]
    }
   ],
   "source": [
    "import pandas as pd\n",
    "import numpy\n",
    "import re\n",
    "import os\n",
    "print()\n",
    "\n",
    "pd.set_option('display.max_rows', 500)\n",
    "pd.set_option('display.max_columns', 500)\n",
    "pd.set_option('display.width', 1000)\n",
    "\n",
    "data_files = [\n",
    "    \"ap_2010.csv\",\n",
    "    \"class_size.csv\",\n",
    "    \"demographics.csv\",\n",
    "    \"graduation.csv\",\n",
    "    \"hs_directory.csv\",\n",
    "    \"sat_results.csv\"\n",
    "]\n",
    "\n",
    "data = {}\n",
    "data_dir = os.environ['DATA_DIR']\n",
    "for f in data_files:\n",
    "    d = pd.read_csv(data_dir + '/schools/' + \"{0}\".format(f))\n",
    "    data[f.replace(\".csv\", \"\")] = d"
   ]
  },
  {
   "cell_type": "markdown",
   "metadata": {},
   "source": [
    "# Read in the surveys"
   ]
  },
  {
   "cell_type": "code",
   "execution_count": 6,
   "metadata": {},
   "outputs": [
    {
     "name": "stderr",
     "output_type": "stream",
     "text": [
      "/usr/local/applications/anaconda3/envs/sid_datascience/lib/python3.7/site-packages/ipykernel_launcher.py:3: FutureWarning: Sorting because non-concatenation axis is not aligned. A future version\n",
      "of pandas will change to not sort by default.\n",
      "\n",
      "To accept the future behavior, pass 'sort=False'.\n",
      "\n",
      "To retain the current behavior and silence the warning, pass 'sort=True'.\n",
      "\n",
      "  This is separate from the ipykernel package so we can avoid doing imports until\n"
     ]
    }
   ],
   "source": [
    "all_survey = pd.read_csv(data_dir + \"/schools/survey_all.txt\", delimiter=\"\\t\", encoding='windows-1252')\n",
    "d75_survey = pd.read_csv(data_dir + \"/schools/survey_d75.txt\", delimiter=\"\\t\", encoding='windows-1252')\n",
    "survey = pd.concat([all_survey, d75_survey], axis=0)\n",
    "\n",
    "survey[\"DBN\"] = survey[\"dbn\"]\n",
    "\n",
    "survey_fields = [\n",
    "    \"DBN\", \n",
    "    \"rr_s\", \n",
    "    \"rr_t\", \n",
    "    \"rr_p\", \n",
    "    \"N_s\", \n",
    "    \"N_t\", \n",
    "    \"N_p\", \n",
    "    \"saf_p_11\", \n",
    "    \"com_p_11\", \n",
    "    \"eng_p_11\", \n",
    "    \"aca_p_11\", \n",
    "    \"saf_t_11\", \n",
    "    \"com_t_11\", \n",
    "    \"eng_t_11\", \n",
    "    \"aca_t_11\", \n",
    "    \"saf_s_11\", \n",
    "    \"com_s_11\", \n",
    "    \"eng_s_11\", \n",
    "    \"aca_s_11\", \n",
    "    \"saf_tot_11\", \n",
    "    \"com_tot_11\", \n",
    "    \"eng_tot_11\", \n",
    "    \"aca_tot_11\",\n",
    "]\n",
    "survey = survey.loc[:,survey_fields]\n",
    "data[\"survey\"] = survey"
   ]
  },
  {
   "cell_type": "markdown",
   "metadata": {},
   "source": [
    "# Add DBN columns"
   ]
  },
  {
   "cell_type": "code",
   "execution_count": 7,
   "metadata": {},
   "outputs": [],
   "source": [
    "data[\"hs_directory\"][\"DBN\"] = data[\"hs_directory\"][\"dbn\"]\n",
    "\n",
    "def pad_csd(num):\n",
    "    string_representation = str(num)\n",
    "    if len(string_representation) > 1:\n",
    "        return string_representation\n",
    "    else:\n",
    "        return \"0\" + string_representation\n",
    "    \n",
    "data[\"class_size\"][\"padded_csd\"] = data[\"class_size\"][\"CSD\"].apply(pad_csd)\n",
    "data[\"class_size\"][\"DBN\"] = data[\"class_size\"][\"padded_csd\"] + data[\"class_size\"][\"SCHOOL CODE\"]"
   ]
  },
  {
   "cell_type": "markdown",
   "metadata": {},
   "source": [
    "# Convert columns to numeric"
   ]
  },
  {
   "cell_type": "code",
   "execution_count": 8,
   "metadata": {},
   "outputs": [],
   "source": [
    "cols = ['SAT Math Avg. Score', 'SAT Critical Reading Avg. Score', 'SAT Writing Avg. Score']\n",
    "for c in cols:\n",
    "    data[\"sat_results\"][c] = pd.to_numeric(data[\"sat_results\"][c], errors=\"coerce\")\n",
    "\n",
    "data['sat_results']['sat_score'] = data['sat_results'][cols[0]] + data['sat_results'][cols[1]] + data['sat_results'][cols[2]]\n",
    "\n",
    "def find_lat(loc):\n",
    "    coords = re.findall(\"\\(.+, .+\\)\", loc)\n",
    "    lat = coords[0].split(\",\")[0].replace(\"(\", \"\")\n",
    "    return lat\n",
    "\n",
    "def find_lon(loc):\n",
    "    coords = re.findall(\"\\(.+, .+\\)\", loc)\n",
    "    lon = coords[0].split(\",\")[1].replace(\")\", \"\").strip()\n",
    "    return lon\n",
    "\n",
    "data[\"hs_directory\"][\"lat\"] = data[\"hs_directory\"][\"Location 1\"].apply(find_lat)\n",
    "data[\"hs_directory\"][\"lon\"] = data[\"hs_directory\"][\"Location 1\"].apply(find_lon)\n",
    "\n",
    "data[\"hs_directory\"][\"lat\"] = pd.to_numeric(data[\"hs_directory\"][\"lat\"], errors=\"coerce\")\n",
    "data[\"hs_directory\"][\"lon\"] = pd.to_numeric(data[\"hs_directory\"][\"lon\"], errors=\"coerce\")"
   ]
  },
  {
   "cell_type": "markdown",
   "metadata": {},
   "source": [
    "# Condense datasets"
   ]
  },
  {
   "cell_type": "code",
   "execution_count": 9,
   "metadata": {},
   "outputs": [],
   "source": [
    "class_size = data[\"class_size\"]\n",
    "class_size = class_size[class_size[\"GRADE \"] == \"09-12\"]\n",
    "class_size = class_size[class_size[\"PROGRAM TYPE\"] == \"GEN ED\"]\n",
    "\n",
    "class_size = class_size.groupby(\"DBN\").agg(numpy.mean)\n",
    "class_size.reset_index(inplace=True)\n",
    "data[\"class_size\"] = class_size\n",
    "\n",
    "data[\"demographics\"] = data[\"demographics\"][data[\"demographics\"][\"schoolyear\"] == 20112012]\n",
    "\n",
    "data[\"graduation\"] = data[\"graduation\"][data[\"graduation\"][\"Cohort\"] == \"2006\"]\n",
    "data[\"graduation\"] = data[\"graduation\"][data[\"graduation\"][\"Demographic\"] == \"Total Cohort\"]"
   ]
  },
  {
   "cell_type": "markdown",
   "metadata": {},
   "source": [
    "# Convert AP scores to numeric"
   ]
  },
  {
   "cell_type": "code",
   "execution_count": 10,
   "metadata": {},
   "outputs": [],
   "source": [
    "cols = ['AP Test Takers ', 'Total Exams Taken', 'Number of Exams with scores 3 4 or 5']\n",
    "\n",
    "for col in cols:\n",
    "    data[\"ap_2010\"][col] = pd.to_numeric(data[\"ap_2010\"][col], errors=\"coerce\")"
   ]
  },
  {
   "cell_type": "markdown",
   "metadata": {},
   "source": [
    "# Combine the datasets"
   ]
  },
  {
   "cell_type": "code",
   "execution_count": 11,
   "metadata": {},
   "outputs": [],
   "source": [
    "combined = data[\"sat_results\"]\n",
    "\n",
    "combined = combined.merge(data[\"ap_2010\"], on=\"DBN\", how=\"left\")\n",
    "combined = combined.merge(data[\"graduation\"], on=\"DBN\", how=\"left\")\n",
    "\n",
    "to_merge = [\"class_size\", \"demographics\", \"survey\", \"hs_directory\"]\n",
    "\n",
    "for m in to_merge:\n",
    "    combined = combined.merge(data[m], on=\"DBN\", how=\"inner\")\n",
    "\n",
    "combined = combined.fillna(combined.mean())\n",
    "combined = combined.fillna(0)"
   ]
  },
  {
   "cell_type": "markdown",
   "metadata": {},
   "source": [
    "# Add a school district column for mapping"
   ]
  },
  {
   "cell_type": "code",
   "execution_count": 12,
   "metadata": {},
   "outputs": [],
   "source": [
    "def get_first_two_chars(dbn):\n",
    "    return dbn[0:2]\n",
    "\n",
    "combined[\"school_dist\"] = combined[\"DBN\"].apply(get_first_two_chars)"
   ]
  },
  {
   "cell_type": "markdown",
   "metadata": {},
   "source": [
    "# Find correlations"
   ]
  },
  {
   "cell_type": "code",
   "execution_count": 13,
   "metadata": {},
   "outputs": [
    {
     "name": "stdout",
     "output_type": "stream",
     "text": [
      "SAT Critical Reading Avg. Score         0.986820\n",
      "SAT Math Avg. Score                     0.972643\n",
      "SAT Writing Avg. Score                  0.987771\n",
      "sat_score                               1.000000\n",
      "AP Test Takers                          0.523140\n",
      "Total Exams Taken                       0.514333\n",
      "Number of Exams with scores 3 4 or 5    0.463245\n",
      "Total Cohort                            0.325144\n",
      "Total Grads - % of cohort               0.584234\n",
      "Total Regents - % of cohort             0.667603\n",
      "Total Regents - % of grads              0.494732\n",
      "Advanced Regents - % of cohort          0.771566\n",
      "Advanced Regents - % of grads           0.739927\n",
      "Regents w/o Advanced - % of cohort     -0.138188\n",
      "Regents w/o Advanced - % of grads      -0.456213\n",
      "Local - % of cohort                    -0.467951\n",
      "Local - % of grads                     -0.494732\n",
      "Still Enrolled - % of cohort           -0.491914\n",
      "Dropped Out - % of cohort              -0.458537\n",
      "CSD                                     0.042948\n",
      "NUMBER OF STUDENTS / SEATS FILLED       0.394626\n",
      "NUMBER OF SECTIONS                      0.362673\n",
      "AVERAGE CLASS SIZE                      0.381014\n",
      "SIZE OF SMALLEST CLASS                  0.249949\n",
      "SIZE OF LARGEST CLASS                   0.314434\n",
      "SCHOOLWIDE PUPIL-TEACHER RATIO               NaN\n",
      "schoolyear                                   NaN\n",
      "fl_percent                                   NaN\n",
      "frl_percent                            -0.722225\n",
      "total_enrollment                        0.367857\n",
      "ell_num                                -0.153778\n",
      "ell_percent                            -0.398750\n",
      "sped_num                                0.034933\n",
      "sped_percent                           -0.448170\n",
      "asian_num                               0.475445\n",
      "asian_per                               0.570730\n",
      "black_num                               0.027979\n",
      "black_per                              -0.284139\n",
      "hispanic_num                            0.025744\n",
      "hispanic_per                           -0.396985\n",
      "white_num                               0.449559\n",
      "white_per                               0.620718\n",
      "male_num                                0.325520\n",
      "male_per                               -0.112062\n",
      "female_num                              0.388631\n",
      "female_per                              0.112108\n",
      "rr_s                                    0.232199\n",
      "rr_t                                   -0.023386\n",
      "rr_p                                    0.047925\n",
      "N_s                                     0.423463\n",
      "N_t                                     0.291463\n",
      "N_p                                     0.421530\n",
      "saf_p_11                                0.122913\n",
      "com_p_11                               -0.115073\n",
      "eng_p_11                                0.020254\n",
      "aca_p_11                                0.035155\n",
      "saf_t_11                                0.313810\n",
      "com_t_11                                0.082419\n",
      "eng_t_11                                0.036906\n",
      "aca_t_11                                0.132348\n",
      "saf_s_11                                0.337639\n",
      "com_s_11                                0.187370\n",
      "eng_s_11                                0.213822\n",
      "aca_s_11                                0.339435\n",
      "saf_tot_11                              0.318753\n",
      "com_tot_11                              0.077310\n",
      "eng_tot_11                              0.100102\n",
      "aca_tot_11                              0.190966\n",
      "grade_span_min                         -0.021315\n",
      "grade_span_max                               NaN\n",
      "expgrade_span_min                            NaN\n",
      "expgrade_span_max                            NaN\n",
      "postcode                               -0.063977\n",
      "total_students                          0.407827\n",
      "number_programs                         0.117012\n",
      "priority08                                   NaN\n",
      "priority09                                   NaN\n",
      "priority10                                   NaN\n",
      "Community Board                        -0.060919\n",
      "Council District                       -0.076151\n",
      "Census Tract                            0.048737\n",
      "BIN                                     0.052232\n",
      "BBL                                     0.044427\n",
      "lat                                    -0.121029\n",
      "lon                                    -0.132222\n",
      "Name: sat_score, dtype: float64\n"
     ]
    }
   ],
   "source": [
    "correlations = combined.corr()\n",
    "correlations = correlations[\"sat_score\"]\n",
    "print(correlations)"
   ]
  },
  {
   "cell_type": "markdown",
   "metadata": {},
   "source": [
    "# Plotting survey correlations"
   ]
  },
  {
   "cell_type": "code",
   "execution_count": 14,
   "metadata": {},
   "outputs": [],
   "source": [
    "# Remove DBN since it's a unique identifier, not a useful numerical value for correlation.\n",
    "survey_fields.remove(\"DBN\")"
   ]
  },
  {
   "cell_type": "code",
   "execution_count": 15,
   "metadata": {},
   "outputs": [
    {
     "data": {
      "text/plain": [
       "<matplotlib.axes._subplots.AxesSubplot at 0x7f510ea329e8>"
      ]
     },
     "execution_count": 15,
     "metadata": {},
     "output_type": "execute_result"
    },
    {
     "data": {
      "image/png": "[encoded data removed]",
      "text/plain": [
       "<Figure size 432x288 with 1 Axes>"
      ]
     },
     "metadata": {
      "needs_background": "light"
     },
     "output_type": "display_data"
    }
   ],
   "source": [
    "%matplotlib inline\n",
    "combined.corr()[\"sat_score\"][survey_fields].plot.bar()"
   ]
  },
  {
   "cell_type": "markdown",
   "metadata": {},
   "source": [
    "# Exploring Safety"
   ]
  },
  {
   "cell_type": "code",
   "execution_count": 16,
   "metadata": {},
   "outputs": [
    {
     "data": {
      "text/plain": [
       "<matplotlib.axes._subplots.AxesSubplot at 0x7f510ecf8550>"
      ]
     },
     "execution_count": 16,
     "metadata": {},
     "output_type": "execute_result"
    },
    {
     "data": {
      "image/png": "[encoded data removed]",
      "text/plain": [
       "<Figure size 432x288 with 1 Axes>"
      ]
     },
     "metadata": {
      "needs_background": "light"
     },
     "output_type": "display_data"
    }
   ],
   "source": [
    "combined.plot.scatter(\"saf_s_11\", \"sat_score\")"
   ]
  },
  {
   "cell_type": "markdown",
   "metadata": {},
   "source": [
    "# Plotting Safefy"
   ]
  },
  {
   "cell_type": "code",
   "execution_count": 17,
   "metadata": {},
   "outputs": [
    {
     "name": "stderr",
     "output_type": "stream",
     "text": [
      "/usr/local/applications/anaconda3/envs/sid_datascience/lib/python3.7/site-packages/ipykernel_launcher.py:13: MatplotlibDeprecationWarning: \n",
      "The dedent function was deprecated in Matplotlib 3.1 and will be removed in 3.3. Use inspect.cleandoc instead.\n",
      "  del sys.path[0]\n",
      "/usr/local/applications/anaconda3/envs/sid_datascience/lib/python3.7/site-packages/ipykernel_launcher.py:18: MatplotlibDeprecationWarning: \n",
      "The dedent function was deprecated in Matplotlib 3.1 and will be removed in 3.3. Use inspect.cleandoc instead.\n"
     ]
    },
    {
     "data": {
      "image/png": "[encoded data removed]",
      "text/plain": [
       "<Figure size 432x288 with 1 Axes>"
      ]
     },
     "metadata": {},
     "output_type": "display_data"
    }
   ],
   "source": [
    "import matplotlib.pyplot as plt\n",
    "from mpl_toolkits.basemap import Basemap\n",
    "\n",
    "districts = combined.groupby(\"school_dist\").agg(numpy.mean)\n",
    "districts.reset_index(inplace=True)\n",
    "\n",
    "m = Basemap(\n",
    "    projection='merc', \n",
    "    llcrnrlat=40.496044, \n",
    "    urcrnrlat=40.915256, \n",
    "    llcrnrlon=-74.255735, \n",
    "    urcrnrlon=-73.700272,\n",
    "    resolution='i'\n",
    ")\n",
    "\n",
    "m.drawmapboundary(fill_color='#85A6D9')\n",
    "m.drawcoastlines(color='#6D5F47', linewidth=.4)\n",
    "m.drawrivers(color='#6D5F47', linewidth=.4)\n",
    "\n",
    "longitudes = districts[\"lon\"].tolist()\n",
    "latitudes = districts[\"lat\"].tolist()\n",
    "m.scatter(longitudes, latitudes, s=50, zorder=2, latlon=True, c=districts[\"saf_s_11\"], cmap=\"summer\")\n",
    "plt.show()"
   ]
  },
  {
   "cell_type": "markdown",
   "metadata": {},
   "source": [
    "# Racial difference in SAT score"
   ]
  },
  {
   "cell_type": "code",
   "execution_count": 18,
   "metadata": {},
   "outputs": [
    {
     "data": {
      "text/plain": [
       "<matplotlib.axes._subplots.AxesSubplot at 0x7f510ece77f0>"
      ]
     },
     "execution_count": 18,
     "metadata": {},
     "output_type": "execute_result"
    },
    {
     "data": {
      "image/png": "[encoded data removed]",
      "text/plain": [
       "<Figure size 432x288 with 1 Axes>"
      ]
     },
     "metadata": {
      "needs_background": "light"
     },
     "output_type": "display_data"
    }
   ],
   "source": [
    "racial_types = ['white_per', 'asian_per', 'black_per', 'hispanic_per']\n",
    "correlations[racial_types].plot.bar()"
   ]
  },
  {
   "cell_type": "markdown",
   "metadata": {},
   "source": [
    "For black and hispanic have higher % of people with low SAT score and  vice-versa"
   ]
  },
  {
   "cell_type": "code",
   "execution_count": 19,
   "metadata": {},
   "outputs": [
    {
     "data": {
      "text/plain": [
       "<matplotlib.axes._subplots.AxesSubplot at 0x7f510273d400>"
      ]
     },
     "execution_count": 19,
     "metadata": {},
     "output_type": "execute_result"
    },
    {
     "data": {
      "image/png": "[encoded data removed]",
      "text/plain": [
       "<Figure size 432x288 with 1 Axes>"
      ]
     },
     "metadata": {
      "needs_background": "light"
     },
     "output_type": "display_data"
    }
   ],
   "source": [
    "combined.plot.scatter(\"hispanic_per\", \"sat_score\")"
   ]
  },
  {
   "cell_type": "markdown",
   "metadata": {},
   "source": [
    "Not a lot of datapoints where low % of hispanics, SAT score is higher. But it definitely says that as a higher % of hispanics in a school have lower SAT score."
   ]
  },
  {
   "cell_type": "code",
   "execution_count": 20,
   "metadata": {},
   "outputs": [
    {
     "data": {
      "text/plain": [
       "44             Manhattan Bridges High School\n",
       "82                                         0\n",
       "89            GREGORIO LUPERON HS SCI & MATH\n",
       "125      Academy for Language and Technology\n",
       "141    International School for Liberal Arts\n",
       "176                                        0\n",
       "253                Multicultural High School\n",
       "286                                        0\n",
       "Name: SchoolName, dtype: object"
      ]
     },
     "execution_count": 20,
     "metadata": {},
     "output_type": "execute_result"
    }
   ],
   "source": [
    "school_95hispanics = combined[combined['hispanic_per'] >= 95]\n",
    "school_95hispanics['SchoolName']"
   ]
  },
  {
   "cell_type": "markdown",
   "metadata": {},
   "source": [
    "In all the above schools with more than 95% of hispanics, atleast 90% of students are economically disadvantaged."
   ]
  },
  {
   "cell_type": "code",
   "execution_count": 21,
   "metadata": {},
   "outputs": [
    {
     "data": {
      "image/png": "[encoded data removed]",
      "text/plain": [
       "<Figure size 720x360 with 1 Axes>"
      ]
     },
     "metadata": {
      "needs_background": "light"
     },
     "output_type": "display_data"
    }
   ],
   "source": [
    "school_10hispanics = combined[combined['hispanic_per'] < 10]\n",
    "school_10hispanics = school_10hispanics[school_10hispanics['sat_score'] > 1000]\n",
    "plt.figure(figsize=(10,5))\n",
    "# school_10hispanics[['white_per','asian_per','black_per']].plot.bar()\n",
    "plt.bar(school_10hispanics['sat_score'], school_10hispanics['white_per'], width=0.5, color='b')\n",
    "plt.bar(school_10hispanics['sat_score'], school_10hispanics['asian_per'], width=0.5, color='y')\n",
    "plt.bar(school_10hispanics['sat_score'], school_10hispanics['black_per'], width=0.5, color='r')\n",
    "plt.show()"
   ]
  },
  {
   "cell_type": "markdown",
   "metadata": {},
   "source": [
    "Asians and White are the high scorers in SAT. Even after looking at poulations of schools with < 10% of hispanics and > 1000 score, black people tend to score lower. Asians lead the results"
   ]
  },
  {
   "cell_type": "markdown",
   "metadata": {},
   "source": [
    "# Gender Difference"
   ]
  },
  {
   "cell_type": "code",
   "execution_count": 22,
   "metadata": {},
   "outputs": [
    {
     "data": {
      "text/plain": [
       "<matplotlib.axes._subplots.AxesSubplot at 0x7f510257aa90>"
      ]
     },
     "execution_count": 22,
     "metadata": {},
     "output_type": "execute_result"
    },
    {
     "data": {
      "image/png": "[encoded data removed]",
      "text/plain": [
       "<Figure size 432x288 with 1 Axes>"
      ]
     },
     "metadata": {
      "needs_background": "light"
     },
     "output_type": "display_data"
    }
   ],
   "source": [
    "correlations[['male_per','female_per']].plot.bar()"
   ]
  },
  {
   "cell_type": "markdown",
   "metadata": {},
   "source": [
    "Females have higher SAT scores than males"
   ]
  },
  {
   "cell_type": "code",
   "execution_count": 23,
   "metadata": {},
   "outputs": [
    {
     "data": {
      "text/plain": [
       "<matplotlib.axes._subplots.AxesSubplot at 0x7f510250e1d0>"
      ]
     },
     "execution_count": 23,
     "metadata": {},
     "output_type": "execute_result"
    },
    {
     "data": {
      "image/png": "[encoded data removed]",
      "text/plain": [
       "<Figure size 432x288 with 1 Axes>"
      ]
     },
     "metadata": {
      "needs_background": "light"
     },
     "output_type": "display_data"
    }
   ],
   "source": [
    "combined.plot.scatter('female_per', 'sat_score')"
   ]
  },
  {
   "cell_type": "markdown",
   "metadata": {},
   "source": [
    "With the given data points, it's hard to say that higher SAT score is dominated with schools having higher female %. There are some data pints where female % is 100 but still SAT score is low."
   ]
  },
  {
   "cell_type": "code",
   "execution_count": 24,
   "metadata": {},
   "outputs": [
    {
     "data": {
      "text/plain": [
       "5                                  0\n",
       "26     Eleanor Roosevelt High School\n",
       "60                     BEACON SCHOOL\n",
       "61           FIORELLO H.LAGUARDIA HS\n",
       "302               TOWNSEND HARRIS HS\n",
       "Name: SchoolName, dtype: object"
      ]
     },
     "execution_count": 24,
     "metadata": {},
     "output_type": "execute_result"
    }
   ],
   "source": [
    "fschool_60_1700 = combined[combined['female_per'] > 60]\n",
    "fschool_60_1700 = fschool_60_1700[fschool_60_1700['sat_score'] > 1700]\n",
    "fschool_60_1700['SchoolName']"
   ]
  },
  {
   "cell_type": "markdown",
   "metadata": {},
   "source": [
    "Elanor - 130 national rank, 60% females, white mostly, 21% economically disadvantaged\n",
    "Beacon high school - 345 rank, 64% females, 24% disadvantaged \n",
    "FIORELLO H.LAGUARDIA HS - 265 rank 29% disadvantaged, 75%females\n",
    "TOWNSEND HARRIS HS - 11 rank 54% disadvantaged, 69% females with 54% Asian. \n",
    "\n",
    "Most of these schools have higher rankings which confirms the fact that these schools have more students with high score.\n"
   ]
  },
  {
   "cell_type": "markdown",
   "metadata": {},
   "source": [
    "# % of AP exam takers vs SAT score"
   ]
  },
  {
   "cell_type": "code",
   "execution_count": 25,
   "metadata": {},
   "outputs": [
    {
     "data": {
      "text/plain": [
       "<matplotlib.axes._subplots.AxesSubplot at 0x7f51024e8588>"
      ]
     },
     "execution_count": 25,
     "metadata": {},
     "output_type": "execute_result"
    },
    {
     "data": {
      "image/png": "[encoded data removed]",
      "text/plain": [
       "<Figure size 432x288 with 1 Axes>"
      ]
     },
     "metadata": {
      "needs_background": "light"
     },
     "output_type": "display_data"
    }
   ],
   "source": [
    "combined['ap_per'] = combined['AP Test Takers ']/combined['total_enrollment']\n",
    "combined.plot.scatter('ap_per', 'sat_score')"
   ]
  },
  {
   "cell_type": "markdown",
   "metadata": {},
   "source": [
    "Do not see a strong relationship with higher % of AP takers having a high sat score."
   ]
  },
  {
   "cell_type": "markdown",
   "metadata": {},
   "source": [
    "# Class size vs SAT score"
   ]
  },
  {
   "cell_type": "code",
   "execution_count": 26,
   "metadata": {},
   "outputs": [
    {
     "data": {
      "text/plain": [
       "<matplotlib.axes._subplots.AxesSubplot at 0x7f5102465438>"
      ]
     },
     "execution_count": 26,
     "metadata": {},
     "output_type": "execute_result"
    },
    {
     "data": {
      "image/png": "[encoded data removed]",
      "text/plain": [
       "<Figure size 432x288 with 1 Axes>"
      ]
     },
     "metadata": {
      "needs_background": "light"
     },
     "output_type": "display_data"
    }
   ],
   "source": [
    "# combined.info(verbose=True)\n",
    "combined.plot.scatter('AVERAGE CLASS SIZE', 'sat_score')"
   ]
  },
  {
   "cell_type": "markdown",
   "metadata": {},
   "source": [
    "There's a linear relationship (positive) between average class size and sat score. Higher average class size, higher the sat score."
   ]
  },
  {
   "cell_type": "markdown",
   "metadata": {},
   "source": [
    "# Neighborhoods with best schools"
   ]
  },
  {
   "cell_type": "markdown",
   "metadata": {},
   "source": [
    "Data Source: https://www.zillow.com/research/data/"
   ]
  },
  {
   "cell_type": "markdown",
   "metadata": {},
   "source": [
    "Study the relationship between rate/sq feet vs average home rate per zipcode to make sure it's linear. This is done to ensure consistency of data. If it holds true, then either of dataset can be used. "
   ]
  },
  {
   "cell_type": "markdown",
   "metadata": {},
   "source": [
    "## Load property data for NYC in DF"
   ]
  },
  {
   "cell_type": "code",
   "execution_count": 27,
   "metadata": {},
   "outputs": [],
   "source": [
    "median_value_per_home_zip_file = 'median_value_per_home_zip.csv'\n",
    "median_value_per_sqft_homes_zip_file = 'median_value_per_sqft_homes_zip.csv' \n",
    "data_files.append(median_value_per_home_zip_file)\n",
    "data_files.append(median_value_per_sqft_homes_zip_file)\n",
    "\n",
    "home_value = pd.read_csv(data_dir + '/schools/' + median_value_per_home_zip_file, sep=',', encoding='utf-8')\n",
    "home_value_sqft = pd.read_csv(data_dir + '/schools/' + median_value_per_sqft_homes_zip_file, sep=',', encoding='utf-8')\n",
    "\n",
    "# Get the data for state = NYC\n",
    "home_value['State'] = home_value['State'].str.upper()\n",
    "home_value_sqft['State'] = home_value_sqft['State'].str.upper()\n",
    "home_value = home_value[home_value['State'] == 'NY']\n",
    "home_value_sqft = home_value_sqft[home_value_sqft['State'] == 'NY']\n"
   ]
  },
  {
   "cell_type": "markdown",
   "metadata": {},
   "source": [
    "## Rename the columns of home_value and home_value_sqft DF"
   ]
  },
  {
   "cell_type": "code",
   "execution_count": 28,
   "metadata": {},
   "outputs": [],
   "source": [
    "home_value_columns = [\"RegionID\",\"RegionName\",\"City\",\"State\",\"Metro\",\"CountyName\", \"2014-01\",\"2014-02\",\"2014-03\",\"2014-04\",\"2014-05\",\"2014-06\",\"2014-07\",\"2014-08\",\"2014-09\",\"2014-10\",\"2014-11\",\"2014-12\"]\n",
    "home_value_sqft_columns = [\"RegionID\",\"RegionName\",\"City\",\"State\",\"Metro\",\"CountyName\", \"2014-01\",\"2014-02\",\"2014-03\",\"2014-04\",\"2014-05\",\"2014-06\",\"2014-07\",\"2014-08\",\"2014-09\",\"2014-10\",\"2014-11\",\"2014-12\"]\n",
    "\n",
    "home_value = home_value[home_value_columns]\n",
    "home_value_sqft = home_value_sqft[home_value_sqft_columns]\n",
    "rename_zip_dict = {'RegionName' : 'zipcode'}\n",
    "\n",
    "home_value.rename(rename_zip_dict, axis=1, inplace=True)\n",
    "home_value_sqft.rename(rename_zip_dict, axis=1, inplace=True)\n",
    "\n",
    "# Rename columns of both the DF\n",
    "home_value_rename_col_dict = {'2014-01': '2014-01(full)', \"2014-02\":\"2014-02(full)\", \"2014-03\":\"2014-03(full)\", \"2014-04\":\"2014-04(full)\", \"2014-05\":\"2014-05(full)\", \"2014-06\":\"2014-06(full)\", \"2014-07\":\"2014-07(full)\", \"2014-08\":\"2014-08(full)\", \"2014-09\":\"2014-09(full)\", \"2014-10\":\"2014-10(full)\", \"2014-11\":\"2014-11(full)\", \"2014-12\":\"2014-12(full)\"}\n",
    "home_value_sqft_rename_col_dict = {'2014-01': '2014-01(sqft)', \"2014-02\":\"2014-02(sqft)\", \"2014-03\":\"2014-03(sqft)\", \"2014-04\":\"2014-04(sqft)\", \"2014-05\":\"2014-05(sqft)\", \"2014-06\":\"2014-06(sqft)\", \"2014-07\":\"2014-07(sqft)\", \"2014-08\":\"2014-08(sqft)\", \"2014-09\":\"2014-09(sqft)\", \"2014-10\":\"2014-10(sqft)\", \"2014-11\":\"2014-11(sqft)\", \"2014-12\":\"2014-12(sqft)\"}\n",
    "home_value.rename(home_value_rename_col_dict, axis=1, inplace=True)\n",
    "home_value_sqft.rename(home_value_sqft_rename_col_dict, axis=1, inplace=True)\n",
    "\n"
   ]
  },
  {
   "cell_type": "markdown",
   "metadata": {},
   "source": [
    "## Join the dataset by zipcode"
   ]
  },
  {
   "cell_type": "code",
   "execution_count": 29,
   "metadata": {},
   "outputs": [
    {
     "name": "stdout",
     "output_type": "stream",
     "text": [
      "<class 'pandas.core.frame.DataFrame'>\n",
      "Int64Index: 1085 entries, 0 to 1084\n",
      "Data columns (total 35 columns):\n",
      "RegionID_x       1085 non-null int64\n",
      "zipcode          1085 non-null int64\n",
      "City_x           1085 non-null object\n",
      "State_x          1085 non-null object\n",
      "Metro_x          1018 non-null object\n",
      "CountyName_x     1085 non-null object\n",
      "2014-01(full)    1084 non-null float64\n",
      "2014-02(full)    1084 non-null float64\n",
      "2014-03(full)    1084 non-null float64\n",
      "2014-04(full)    1084 non-null float64\n",
      "2014-05(full)    1084 non-null float64\n",
      "2014-06(full)    1084 non-null float64\n",
      "2014-07(full)    1085 non-null float64\n",
      "2014-08(full)    1085 non-null float64\n",
      "2014-09(full)    1085 non-null float64\n",
      "2014-10(full)    1085 non-null float64\n",
      "2014-11(full)    1085 non-null float64\n",
      "2014-12(full)    1085 non-null float64\n",
      "RegionID_y       1004 non-null float64\n",
      "City_y           1004 non-null object\n",
      "State_y          1004 non-null object\n",
      "Metro_y          938 non-null object\n",
      "CountyName_y     1004 non-null object\n",
      "2014-01(sqft)    1004 non-null float64\n",
      "2014-02(sqft)    1004 non-null float64\n",
      "2014-03(sqft)    1004 non-null float64\n",
      "2014-04(sqft)    1004 non-null float64\n",
      "2014-05(sqft)    1004 non-null float64\n",
      "2014-06(sqft)    1004 non-null float64\n",
      "2014-07(sqft)    1004 non-null float64\n",
      "2014-08(sqft)    1004 non-null float64\n",
      "2014-09(sqft)    1004 non-null float64\n",
      "2014-10(sqft)    1004 non-null float64\n",
      "2014-11(sqft)    1004 non-null float64\n",
      "2014-12(sqft)    1004 non-null float64\n",
      "dtypes: float64(25), int64(2), object(8)\n",
      "memory usage: 305.2+ KB\n"
     ]
    }
   ],
   "source": [
    "# home_value.info(verbose=True)\n",
    "# home_value_sqft.info(verbose=True)\n",
    "\n",
    "home_cost = home_value.merge(home_value_sqft, on='zipcode', how='left')\n",
    "home_cost.info(verbose=True)\n",
    "\n",
    "## Examine for null values\n",
    "# missing_df = home_cost[home_cost['2014-01(sqft)'].isnull()]\n",
    "## The missing data is because a few zipcodes are absent in home_value_sqft.\n",
    "\n"
   ]
  },
  {
   "cell_type": "markdown",
   "metadata": {},
   "source": [
    "## Correlate "
   ]
  },
  {
   "cell_type": "code",
   "execution_count": 30,
   "metadata": {},
   "outputs": [
    {
     "data": {
      "text/plain": [
       "RegionID_x       0.123160\n",
       "zipcode         -0.629581\n",
       "2014-01(full)    0.999951\n",
       "2014-02(full)    1.000000\n",
       "2014-03(full)    0.999941\n",
       "2014-04(full)    0.999784\n",
       "2014-05(full)    0.999546\n",
       "2014-06(full)    0.999254\n",
       "2014-07(full)    0.998943\n",
       "2014-08(full)    0.998685\n",
       "2014-09(full)    0.998506\n",
       "2014-10(full)    0.998303\n",
       "2014-11(full)    0.998089\n",
       "2014-12(full)    0.997810\n",
       "RegionID_y       0.132202\n",
       "2014-01(sqft)    0.884378\n",
       "2014-02(sqft)    0.883942\n",
       "2014-03(sqft)    0.882956\n",
       "2014-04(sqft)    0.882115\n",
       "2014-05(sqft)    0.881676\n",
       "2014-06(sqft)    0.881245\n",
       "2014-07(sqft)    0.881161\n",
       "2014-08(sqft)    0.881351\n",
       "2014-09(sqft)    0.881212\n",
       "2014-10(sqft)    0.880836\n",
       "2014-11(sqft)    0.880626\n",
       "2014-12(sqft)    0.880393\n",
       "Name: 2014-02(full), dtype: float64"
      ]
     },
     "execution_count": 30,
     "metadata": {},
     "output_type": "execute_result"
    }
   ],
   "source": [
    "correlation = home_cost.corr()\n",
    "correlation['2014-02(full)']\n",
    "## Check for any month of 2014 and you will find high correlation values across all\n",
    "## months of 2014 for 2014(sqft) rates and vice-versa"
   ]
  },
  {
   "cell_type": "code",
   "execution_count": 31,
   "metadata": {},
   "outputs": [
    {
     "data": {
      "text/plain": [
       "<matplotlib.axes._subplots.AxesSubplot at 0x7f5102626320>"
      ]
     },
     "execution_count": 31,
     "metadata": {},
     "output_type": "execute_result"
    },
    {
     "data": {
      "image/png": "[encoded data removed]",
      "text/plain": [
       "<Figure size 432x288 with 1 Axes>"
      ]
     },
     "metadata": {
      "needs_background": "light"
     },
     "output_type": "display_data"
    }
   ],
   "source": [
    "home_cost.plot.scatter('2014-06(sqft)','2014-06(full)' )\n",
    "## This shows that relation between sqft cost vs full house cost is linear. During higher value\n",
    "## of $/sqft, the rate of increase is not much as for lower values of $/sqft. "
   ]
  },
  {
   "cell_type": "markdown",
   "metadata": {},
   "source": [
    "## Compare property data and school score"
   ]
  },
  {
   "cell_type": "code",
   "execution_count": 32,
   "metadata": {},
   "outputs": [
    {
     "data": {
      "text/plain": [
       "<matplotlib.axes._subplots.AxesSubplot at 0x7f510dacfa20>"
      ]
     },
     "execution_count": 32,
     "metadata": {},
     "output_type": "execute_result"
    },
    {
     "data": {
      "image/png": "[encoded data removed]",
      "text/plain": [
       "<Figure size 432x288 with 1 Axes>"
      ]
     },
     "metadata": {
      "needs_background": "light"
     },
     "output_type": "display_data"
    }
   ],
   "source": [
    "\n",
    "\n",
    "combined = combined.merge(home_value, left_on='postcode', right_on='zipcode', how='left')\n",
    "## Drop rows where no property data can be found for some zipcodes\n",
    "\n",
    "combined = combined.dropna(subset=['zipcode'])\n",
    "# combined.info(verbose=True)\n",
    "\n",
    "columns = ['2014-01(full)', '2014-02(full)', '2014-03(full)', '2014-04(full)', '2014-05(full)', '2014-06(full)', '2014-07(full)', '2014-08(full)','2014-09(full)', '2014-10(full)', '2014-11(full)', '2014-12(full)']   \n",
    "combined['property_val(2014)'] = combined[columns].mean(axis=1)\n",
    "combined.head()\n",
    "combined.plot.scatter('property_val(2014)', 'sat_score')"
   ]
  },
  {
   "cell_type": "markdown",
   "metadata": {},
   "source": [
    "According to above graph, there is no relationship between property value and sat score. So a school can be in a less expensive neighbourhood and still a good school."
   ]
  },
  {
   "cell_type": "markdown",
   "metadata": {},
   "source": [
    "# Investing differences between parent, teacher and student responses in the survey"
   ]
  },
  {
   "cell_type": "markdown",
   "metadata": {},
   "source": [
    "The survey fields tracking the responses of parent, teacher and student are \"saf_p_11\", \"com_p_11\", \"eng_p_11\", \"aca_p_11\", \"saf_t_11\", \"com_t_11\", \"eng_t_11\", \"aca_t_11\", \"saf_s_11\", \"com_s_11\", \"eng_s_11\", \"aca_s_11\""
   ]
  },
  {
   "cell_type": "code",
   "execution_count": 33,
   "metadata": {},
   "outputs": [
    {
     "data": {
      "text/plain": [
       "SAT Critical Reading Avg. Score         0.090868\n",
       "SAT Math Avg. Score                     0.078348\n",
       "SAT Writing Avg. Score                  0.117356\n",
       "sat_score                               0.097235\n",
       "AP Test Takers                         -0.097788\n",
       "Total Exams Taken                      -0.092283\n",
       "Number of Exams with scores 3 4 or 5   -0.045961\n",
       "Total Cohort                           -0.306600\n",
       "Total Grads - % of cohort               0.267527\n",
       "Total Regents - % of cohort             0.233819\n",
       "Total Regents - % of grads              0.077864\n",
       "Advanced Regents - % of cohort          0.090031\n",
       "Advanced Regents - % of grads           0.030069\n",
       "Regents w/o Advanced - % of cohort      0.170222\n",
       "Regents w/o Advanced - % of grads       0.022946\n",
       "Local - % of cohort                    -0.048221\n",
       "Local - % of grads                     -0.077864\n",
       "Still Enrolled - % of cohort           -0.232186\n",
       "Dropped Out - % of cohort              -0.191128\n",
       "CSD                                    -0.067666\n",
       "NUMBER OF STUDENTS / SEATS FILLED      -0.298485\n",
       "NUMBER OF SECTIONS                     -0.288689\n",
       "AVERAGE CLASS SIZE                     -0.253411\n",
       "SIZE OF SMALLEST CLASS                 -0.094437\n",
       "SIZE OF LARGEST CLASS                  -0.249445\n",
       "SCHOOLWIDE PUPIL-TEACHER RATIO               NaN\n",
       "schoolyear                                   NaN\n",
       "fl_percent                                   NaN\n",
       "frl_percent                             0.043451\n",
       "total_enrollment                       -0.298461\n",
       "ell_num                                -0.162651\n",
       "ell_percent                             0.105671\n",
       "sped_num                               -0.374380\n",
       "sped_percent                           -0.224753\n",
       "asian_num                              -0.173899\n",
       "asian_per                              -0.050773\n",
       "black_num                              -0.303188\n",
       "black_per                              -0.069782\n",
       "hispanic_num                           -0.272833\n",
       "hispanic_per                            0.100920\n",
       "white_num                              -0.134320\n",
       "white_per                               0.022225\n",
       "male_num                               -0.302825\n",
       "male_per                               -0.047479\n",
       "female_num                             -0.272355\n",
       "female_per                              0.047481\n",
       "rr_s                                    0.197640\n",
       "rr_t                                    0.116780\n",
       "rr_p                                    0.375407\n",
       "N_s                                    -0.294335\n",
       "N_t                                    -0.306321\n",
       "N_p                                    -0.100085\n",
       "saf_p_11                                0.785242\n",
       "com_p_11                                0.904636\n",
       "eng_p_11                                0.900294\n",
       "aca_p_11                                1.000000\n",
       "saf_t_11                                0.468432\n",
       "com_t_11                                0.363479\n",
       "eng_t_11                                0.372811\n",
       "aca_t_11                                0.460286\n",
       "saf_s_11                                0.530232\n",
       "com_s_11                                0.519885\n",
       "eng_s_11                                0.570237\n",
       "aca_s_11                                0.646700\n",
       "saf_tot_11                              0.663003\n",
       "com_tot_11                              0.684196\n",
       "eng_tot_11                              0.673684\n",
       "aca_tot_11                              0.772904\n",
       "grade_span_min                         -0.061397\n",
       "grade_span_max                               NaN\n",
       "expgrade_span_min                            NaN\n",
       "expgrade_span_max                            NaN\n",
       "postcode                               -0.032615\n",
       "total_students                         -0.251211\n",
       "number_programs                        -0.306516\n",
       "priority08                                   NaN\n",
       "priority09                                   NaN\n",
       "priority10                                   NaN\n",
       "Community Board                         0.003176\n",
       "Council District                       -0.036295\n",
       "Census Tract                           -0.089932\n",
       "BIN                                    -0.050818\n",
       "BBL                                    -0.061938\n",
       "lat                                     0.063389\n",
       "lon                                    -0.024067\n",
       "ap_per                                  0.147650\n",
       "RegionID                               -0.001727\n",
       "zipcode                                -0.032615\n",
       "2014-01(full)                           0.041548\n",
       "2014-02(full)                           0.041000\n",
       "2014-03(full)                           0.040666\n",
       "2014-04(full)                           0.041296\n",
       "2014-05(full)                           0.042313\n",
       "2014-06(full)                           0.042439\n",
       "2014-07(full)                           0.041044\n",
       "2014-08(full)                           0.039449\n",
       "2014-09(full)                           0.038811\n",
       "2014-10(full)                           0.038686\n",
       "2014-11(full)                           0.038844\n",
       "2014-12(full)                           0.039176\n",
       "property_val(2014)                      0.040433\n",
       "Name: aca_p_11, dtype: float64"
      ]
     },
     "execution_count": 33,
     "metadata": {},
     "output_type": "execute_result"
    }
   ],
   "source": [
    "correlations = combined.corr()\n",
    "## Examine the fields saf_t_11 and saf_s_11\n",
    "correlations['saf_p_11'] \n",
    "\n",
    "## Examine the fields com_t_11 and com_s_11\n",
    "correlations['com_p_11']\n",
    "\n",
    "## Examine the fields eng_t_11 and eng_s_11\n",
    "correlations['eng_p_11']\n",
    "\n",
    "## Examine the fields aca_t_11 and aca_s_11\n",
    "correlations['aca_p_11']"
   ]
  }
 ],
 "metadata": {
  "kernelspec": {
   "display_name": "Python 3",
   "language": "python",
   "name": "python3"
  },
  "language_info": {
   "codemirror_mode": {
    "name": "ipython",
    "version": 3
   },
   "file_extension": ".py",
   "mimetype": "text/x-python",
   "name": "python",
   "nbconvert_exporter": "python",
   "pygments_lexer": "ipython3",
   "version": "3.7.3"
  }
 },
 "nbformat": 4,
 "nbformat_minor": 2
}
